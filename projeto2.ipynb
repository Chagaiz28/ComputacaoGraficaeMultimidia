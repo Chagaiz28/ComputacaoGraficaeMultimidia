{
 "cells": [
  {
   "cell_type": "code",
   "execution_count": 8,
   "metadata": {},
   "outputs": [
    {
     "name": "stdout",
     "output_type": "stream",
     "text": [
      "Moviepy - Building video video_final.mp4.\n",
      "MoviePy - Writing audio in video_finalTEMP_MPY_wvf_snd.mp4\n"
     ]
    },
    {
     "name": "stderr",
     "output_type": "stream",
     "text": [
      "                                                                      \r"
     ]
    },
    {
     "name": "stdout",
     "output_type": "stream",
     "text": [
      "MoviePy - Done.\n",
      "Moviepy - Writing video video_final.mp4\n",
      "\n"
     ]
    },
    {
     "name": "stderr",
     "output_type": "stream",
     "text": [
      "                                                                 \r"
     ]
    },
    {
     "name": "stdout",
     "output_type": "stream",
     "text": [
      "Moviepy - Done !\n",
      "Moviepy - video ready video_final.mp4\n"
     ]
    }
   ],
   "source": [
    "from moviepy.editor import VideoFileClip, concatenate_videoclips, vfx\n",
    "import numpy as np\n",
    "\n",
    "# 1. Carregar o vídeo original\n",
    "video = VideoFileClip(\"Trabalhocg-VEED.mp4\")\n",
    "\n",
    "# 2. Processar vídeo: inverter imagem a cada 20 segundos\n",
    "clips = []\n",
    "for i in range(0, int(video.duration), 20):\n",
    "    clip = video.subclip(i, min(i + 20, video.duration))\n",
    "    if (i // 20) % 2 == 1:\n",
    "        clip = clip.fx(vfx.mirror_x)  # Inverter horizontalmente\n",
    "    clips.append(clip)\n",
    "\n",
    "processed_video = concatenate_videoclips(clips)\n",
    "\n",
    "# 3. Cortar trechos e reorganizar\n",
    "main_part = processed_video.subclip(0, 60)\n",
    "cut_part = processed_video.subclip(60, 80)\n",
    "remaining_part = processed_video.subclip(80, processed_video.duration)\n",
    "final_video = concatenate_videoclips([main_part, remaining_part, cut_part])\n",
    "\n",
    "# 4. Reduzir o som gradativamente\n",
    "audio = final_video.audio\n",
    "duration = final_video.duration\n",
    "\n",
    "def fade_audio(get_frame, t):\n",
    "    frame = get_frame(t)  # Obtém o áudio no momento t\n",
    "    if isinstance(t, (int, float)):\n",
    "        if t >= (duration - 10):\n",
    "            fade_factor = 0\n",
    "        else:\n",
    "            fade_factor = max(0, 1 - (t // 30) * 0.1)\n",
    "    else:  # Caso t seja um array NumPy (para múltiplos frames)\n",
    "        fade_factor = 1 - (t // 30) * 0.2\n",
    "        fade_factor = np.clip(fade_factor, 0, 1)  # Garante valores entre 0 e 1\n",
    "    \n",
    "    # Ajusta o fade_factor para ter a mesma forma que o frame\n",
    "    if len(frame.shape) > 1:  # Áudio com mais de um canal (ex.: estéreo)\n",
    "        fade_factor = fade_factor[:, np.newaxis]\n",
    "    \n",
    "    return frame * fade_factor\n",
    "\n",
    "def mute_last_10_seconds(get_frame, t):\n",
    "    frame = get_frame(t)  # Obtém o áudio no momento t\n",
    "    if isinstance(t, (int, float)) and t >= (duration - 10):\n",
    "        return frame * 0\n",
    "    elif isinstance(t, np.ndarray):\n",
    "        mute_factor = np.where(t >= (duration - 10), 0, 1)\n",
    "        if len(frame.shape) > 1:  # Áudio com mais de um canal (ex.: estéreo)\n",
    "            mute_factor = mute_factor[:, np.newaxis]\n",
    "        return frame * mute_factor\n",
    "    return frame\n",
    "\n",
    "faded_audio = audio.fl(fade_audio).fl(mute_last_10_seconds)\n",
    "final_video = final_video.set_audio(faded_audio)\n",
    "\n",
    "# 5. Renderizar e salvar o vídeo final\n",
    "final_video.write_videofile(\"video_final.mp4\", codec=\"libx264\", audio_codec=\"aac\")"
   ]
  }
 ],
 "metadata": {
  "kernelspec": {
   "display_name": ".venv",
   "language": "python",
   "name": "python3"
  },
  "language_info": {
   "codemirror_mode": {
    "name": "ipython",
    "version": 3
   },
   "file_extension": ".py",
   "mimetype": "text/x-python",
   "name": "python",
   "nbconvert_exporter": "python",
   "pygments_lexer": "ipython3",
   "version": "3.12.0"
  }
 },
 "nbformat": 4,
 "nbformat_minor": 2
}
